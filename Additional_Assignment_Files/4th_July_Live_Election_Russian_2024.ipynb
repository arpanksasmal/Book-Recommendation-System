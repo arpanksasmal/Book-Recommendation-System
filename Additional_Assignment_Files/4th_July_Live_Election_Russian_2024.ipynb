{
 "cells": [
  {
   "cell_type": "markdown",
   "id": "9af4585f-43f1-4aaa-a43d-a098020b7634",
   "metadata": {},
   "source": [
    "# Importing Libraries & Dataset"
   ]
  },
  {
   "cell_type": "code",
   "execution_count": 2,
   "id": "1cad096d-e5dd-4cc2-83dc-0ce3e7ad4456",
   "metadata": {},
   "outputs": [],
   "source": [
    "import numpy as np\n",
    "import pandas as pd\n",
    "import matplotlib.pyplot as plt\n",
    "import seaborn as sns\n",
    "\n",
    "import warnings\n",
    "warnings.filterwarnings(\"ignore\")"
   ]
  },
  {
   "cell_type": "code",
   "execution_count": 3,
   "id": "181b6a63-c25e-4f0f-ac80-08059928948d",
   "metadata": {},
   "outputs": [
    {
     "data": {
      "text/html": [
       "<div>\n",
       "<style scoped>\n",
       "    .dataframe tbody tr th:only-of-type {\n",
       "        vertical-align: middle;\n",
       "    }\n",
       "\n",
       "    .dataframe tbody tr th {\n",
       "        vertical-align: top;\n",
       "    }\n",
       "\n",
       "    .dataframe thead th {\n",
       "        text-align: right;\n",
       "    }\n",
       "</style>\n",
       "<table border=\"1\" class=\"dataframe\">\n",
       "  <thead>\n",
       "    <tr style=\"text-align: right;\">\n",
       "      <th></th>\n",
       "      <th>id</th>\n",
       "      <th>sex</th>\n",
       "      <th>age</th>\n",
       "      <th>federal_district</th>\n",
       "      <th>type_of_city</th>\n",
       "      <th>knows_election_date</th>\n",
       "      <th>will_vote</th>\n",
       "      <th>candidate</th>\n",
       "      <th>television_usage</th>\n",
       "      <th>internet_usage</th>\n",
       "      <th>education</th>\n",
       "      <th>income</th>\n",
       "      <th>employment</th>\n",
       "      <th>job_type</th>\n",
       "      <th>company_type</th>\n",
       "      <th>weight1</th>\n",
       "    </tr>\n",
       "  </thead>\n",
       "  <tbody>\n",
       "    <tr>\n",
       "      <th>0</th>\n",
       "      <td>07169ed8148ce047</td>\n",
       "      <td>male</td>\n",
       "      <td>18.0</td>\n",
       "      <td>north caucasian</td>\n",
       "      <td>village</td>\n",
       "      <td>named correct date</td>\n",
       "      <td>not sure</td>\n",
       "      <td>Putin</td>\n",
       "      <td>several times a week</td>\n",
       "      <td>over 4 hours a day</td>\n",
       "      <td>incomplete school education</td>\n",
       "      <td>very high</td>\n",
       "      <td>entrepreneur</td>\n",
       "      <td>NaN</td>\n",
       "      <td>farming</td>\n",
       "      <td>1.445172</td>\n",
       "    </tr>\n",
       "    <tr>\n",
       "      <th>1</th>\n",
       "      <td>0716a4f3354cecdd</td>\n",
       "      <td>male</td>\n",
       "      <td>23.0</td>\n",
       "      <td>north caucasian</td>\n",
       "      <td>village</td>\n",
       "      <td>named correct date</td>\n",
       "      <td>not sure</td>\n",
       "      <td>Putin</td>\n",
       "      <td>once half a year</td>\n",
       "      <td>over 4 hours a day</td>\n",
       "      <td>college</td>\n",
       "      <td>very high</td>\n",
       "      <td>work for hire</td>\n",
       "      <td>commercial organization</td>\n",
       "      <td>trade</td>\n",
       "      <td>1.445172</td>\n",
       "    </tr>\n",
       "    <tr>\n",
       "      <th>2</th>\n",
       "      <td>0716889b304ce79c</td>\n",
       "      <td>male</td>\n",
       "      <td>20.0</td>\n",
       "      <td>volga</td>\n",
       "      <td>city with population of less than 50k</td>\n",
       "      <td>named correct date</td>\n",
       "      <td>definitely yes</td>\n",
       "      <td>Putin</td>\n",
       "      <td>several times a week</td>\n",
       "      <td>over 4 hours a day</td>\n",
       "      <td>college</td>\n",
       "      <td>very high</td>\n",
       "      <td>work for hire</td>\n",
       "      <td>law enforcement agency</td>\n",
       "      <td>law enforcement agency</td>\n",
       "      <td>1.301691</td>\n",
       "    </tr>\n",
       "    <tr>\n",
       "      <th>3</th>\n",
       "      <td>07168e28b5cce563</td>\n",
       "      <td>male</td>\n",
       "      <td>22.0</td>\n",
       "      <td>northwestern</td>\n",
       "      <td>city with population of 1 million and higher</td>\n",
       "      <td>not sure or no answer</td>\n",
       "      <td>not sure</td>\n",
       "      <td>Davankov</td>\n",
       "      <td>several times a week</td>\n",
       "      <td>over 4 hours a day</td>\n",
       "      <td>college</td>\n",
       "      <td>very high</td>\n",
       "      <td>unemployed</td>\n",
       "      <td>NaN</td>\n",
       "      <td>NaN</td>\n",
       "      <td>1.538628</td>\n",
       "    </tr>\n",
       "    <tr>\n",
       "      <th>4</th>\n",
       "      <td>0716a563914ce549</td>\n",
       "      <td>male</td>\n",
       "      <td>21.0</td>\n",
       "      <td>southern</td>\n",
       "      <td>city with population of 1 million and higher</td>\n",
       "      <td>named correct date</td>\n",
       "      <td>definitely yes</td>\n",
       "      <td>Putin</td>\n",
       "      <td>does not watch</td>\n",
       "      <td>over 4 hours a day</td>\n",
       "      <td>bachelor degree</td>\n",
       "      <td>very high</td>\n",
       "      <td>employed student</td>\n",
       "      <td>commercial organization</td>\n",
       "      <td>tech, programming, communications</td>\n",
       "      <td>1.967015</td>\n",
       "    </tr>\n",
       "    <tr>\n",
       "      <th>...</th>\n",
       "      <td>...</td>\n",
       "      <td>...</td>\n",
       "      <td>...</td>\n",
       "      <td>...</td>\n",
       "      <td>...</td>\n",
       "      <td>...</td>\n",
       "      <td>...</td>\n",
       "      <td>...</td>\n",
       "      <td>...</td>\n",
       "      <td>...</td>\n",
       "      <td>...</td>\n",
       "      <td>...</td>\n",
       "      <td>...</td>\n",
       "      <td>...</td>\n",
       "      <td>...</td>\n",
       "      <td>...</td>\n",
       "    </tr>\n",
       "    <tr>\n",
       "      <th>1595</th>\n",
       "      <td>0716b23c2c0cee3a</td>\n",
       "      <td>male</td>\n",
       "      <td>61.0</td>\n",
       "      <td>central</td>\n",
       "      <td>settlement</td>\n",
       "      <td>named correct date</td>\n",
       "      <td>definitely no</td>\n",
       "      <td>will not take part</td>\n",
       "      <td>over 4 hours a day</td>\n",
       "      <td>less than 4 hours a day</td>\n",
       "      <td>bachelor degree</td>\n",
       "      <td>hard to say</td>\n",
       "      <td>unemployed pensioner</td>\n",
       "      <td>NaN</td>\n",
       "      <td>NaN</td>\n",
       "      <td>1.270761</td>\n",
       "    </tr>\n",
       "    <tr>\n",
       "      <th>1596</th>\n",
       "      <td>07168254d14ceb55</td>\n",
       "      <td>female</td>\n",
       "      <td>80.0</td>\n",
       "      <td>volga</td>\n",
       "      <td>village</td>\n",
       "      <td>named correct date</td>\n",
       "      <td>likely yes</td>\n",
       "      <td>struggle to answer</td>\n",
       "      <td>several times a week</td>\n",
       "      <td>does not use internet</td>\n",
       "      <td>college</td>\n",
       "      <td>hard to say</td>\n",
       "      <td>unemployed pensioner</td>\n",
       "      <td>NaN</td>\n",
       "      <td>NaN</td>\n",
       "      <td>0.921724</td>\n",
       "    </tr>\n",
       "    <tr>\n",
       "      <th>1597</th>\n",
       "      <td>071690f34d4ce164</td>\n",
       "      <td>female</td>\n",
       "      <td>76.0</td>\n",
       "      <td>northwestern</td>\n",
       "      <td>city with population of 50-100k</td>\n",
       "      <td>named correct date</td>\n",
       "      <td>definitely yes</td>\n",
       "      <td>Putin</td>\n",
       "      <td>does not watch</td>\n",
       "      <td>over 4 hours a day</td>\n",
       "      <td>bachelor degree</td>\n",
       "      <td>hard to say</td>\n",
       "      <td>unemployed pensioner</td>\n",
       "      <td>NaN</td>\n",
       "      <td>NaN</td>\n",
       "      <td>1.396691</td>\n",
       "    </tr>\n",
       "    <tr>\n",
       "      <th>1598</th>\n",
       "      <td>0716bfa9c48ce79a</td>\n",
       "      <td>female</td>\n",
       "      <td>74.0</td>\n",
       "      <td>central</td>\n",
       "      <td>city with population of less than 50k</td>\n",
       "      <td>not sure or no answer</td>\n",
       "      <td>definitely yes</td>\n",
       "      <td>Putin</td>\n",
       "      <td>over 4 hours a day</td>\n",
       "      <td>over 4 hours a day</td>\n",
       "      <td>academic degree</td>\n",
       "      <td>hard to say</td>\n",
       "      <td>employed pensioner</td>\n",
       "      <td>commercial organization</td>\n",
       "      <td>industry, manufacturing</td>\n",
       "      <td>0.995849</td>\n",
       "    </tr>\n",
       "    <tr>\n",
       "      <th>1599</th>\n",
       "      <td>07168088318cef88</td>\n",
       "      <td>female</td>\n",
       "      <td>76.0</td>\n",
       "      <td>ural</td>\n",
       "      <td>village</td>\n",
       "      <td>named correct date</td>\n",
       "      <td>definitely yes</td>\n",
       "      <td>Putin</td>\n",
       "      <td>over 4 hours a day</td>\n",
       "      <td>over 4 hours a day</td>\n",
       "      <td>school</td>\n",
       "      <td>hard to say</td>\n",
       "      <td>unemployed pensioner</td>\n",
       "      <td>NaN</td>\n",
       "      <td>NaN</td>\n",
       "      <td>0.860836</td>\n",
       "    </tr>\n",
       "  </tbody>\n",
       "</table>\n",
       "<p>1600 rows × 16 columns</p>\n",
       "</div>"
      ],
      "text/plain": [
       "                    id     sex   age federal_district  \\\n",
       "0     07169ed8148ce047    male  18.0  north caucasian   \n",
       "1     0716a4f3354cecdd    male  23.0  north caucasian   \n",
       "2     0716889b304ce79c    male  20.0            volga   \n",
       "3     07168e28b5cce563    male  22.0     northwestern   \n",
       "4     0716a563914ce549    male  21.0         southern   \n",
       "...                ...     ...   ...              ...   \n",
       "1595  0716b23c2c0cee3a    male  61.0          central   \n",
       "1596  07168254d14ceb55  female  80.0            volga   \n",
       "1597  071690f34d4ce164  female  76.0     northwestern   \n",
       "1598  0716bfa9c48ce79a  female  74.0          central   \n",
       "1599  07168088318cef88  female  76.0             ural   \n",
       "\n",
       "                                      type_of_city    knows_election_date  \\\n",
       "0                                          village     named correct date   \n",
       "1                                          village     named correct date   \n",
       "2            city with population of less than 50k     named correct date   \n",
       "3     city with population of 1 million and higher  not sure or no answer   \n",
       "4     city with population of 1 million and higher     named correct date   \n",
       "...                                            ...                    ...   \n",
       "1595                                    settlement     named correct date   \n",
       "1596                                       village     named correct date   \n",
       "1597               city with population of 50-100k     named correct date   \n",
       "1598         city with population of less than 50k  not sure or no answer   \n",
       "1599                                       village     named correct date   \n",
       "\n",
       "           will_vote           candidate      television_usage  \\\n",
       "0           not sure               Putin  several times a week   \n",
       "1           not sure               Putin      once half a year   \n",
       "2     definitely yes               Putin  several times a week   \n",
       "3           not sure            Davankov  several times a week   \n",
       "4     definitely yes               Putin        does not watch   \n",
       "...              ...                 ...                   ...   \n",
       "1595   definitely no  will not take part    over 4 hours a day   \n",
       "1596      likely yes  struggle to answer  several times a week   \n",
       "1597  definitely yes               Putin        does not watch   \n",
       "1598  definitely yes               Putin    over 4 hours a day   \n",
       "1599  definitely yes               Putin    over 4 hours a day   \n",
       "\n",
       "               internet_usage                    education       income  \\\n",
       "0          over 4 hours a day  incomplete school education    very high   \n",
       "1          over 4 hours a day                      college    very high   \n",
       "2          over 4 hours a day                      college    very high   \n",
       "3          over 4 hours a day                      college    very high   \n",
       "4          over 4 hours a day              bachelor degree    very high   \n",
       "...                       ...                          ...          ...   \n",
       "1595  less than 4 hours a day              bachelor degree  hard to say   \n",
       "1596    does not use internet                      college  hard to say   \n",
       "1597       over 4 hours a day              bachelor degree  hard to say   \n",
       "1598       over 4 hours a day              academic degree  hard to say   \n",
       "1599       over 4 hours a day                       school  hard to say   \n",
       "\n",
       "                employment                 job_type  \\\n",
       "0             entrepreneur                      NaN   \n",
       "1            work for hire  commercial organization   \n",
       "2            work for hire   law enforcement agency   \n",
       "3               unemployed                      NaN   \n",
       "4         employed student  commercial organization   \n",
       "...                    ...                      ...   \n",
       "1595  unemployed pensioner                      NaN   \n",
       "1596  unemployed pensioner                      NaN   \n",
       "1597  unemployed pensioner                      NaN   \n",
       "1598    employed pensioner  commercial organization   \n",
       "1599  unemployed pensioner                      NaN   \n",
       "\n",
       "                           company_type   weight1  \n",
       "0                               farming  1.445172  \n",
       "1                                 trade  1.445172  \n",
       "2                law enforcement agency  1.301691  \n",
       "3                                   NaN  1.538628  \n",
       "4     tech, programming, communications  1.967015  \n",
       "...                                 ...       ...  \n",
       "1595                                NaN  1.270761  \n",
       "1596                                NaN  0.921724  \n",
       "1597                                NaN  1.396691  \n",
       "1598            industry, manufacturing  0.995849  \n",
       "1599                                NaN  0.860836  \n",
       "\n",
       "[1600 rows x 16 columns]"
      ]
     },
     "execution_count": 3,
     "metadata": {},
     "output_type": "execute_result"
    }
   ],
   "source": [
    "df = pd.read_csv(\"election2024.csv\")\n",
    "df"
   ]
  },
  {
   "cell_type": "markdown",
   "id": "69bb766b-e382-4bc1-b142-13c5dcdc3c63",
   "metadata": {},
   "source": [
    "# Data Preprocessing"
   ]
  },
  {
   "cell_type": "code",
   "execution_count": 5,
   "id": "8452ae6f-8ab6-4690-9787-a0dfb050a3bc",
   "metadata": {},
   "outputs": [
    {
     "data": {
      "text/plain": [
       "(1600, 16)"
      ]
     },
     "execution_count": 5,
     "metadata": {},
     "output_type": "execute_result"
    }
   ],
   "source": [
    "df.shape"
   ]
  },
  {
   "cell_type": "code",
   "execution_count": 6,
   "id": "76f801da-3710-4843-ba70-da3c2e89faf8",
   "metadata": {},
   "outputs": [
    {
     "data": {
      "text/html": [
       "<div>\n",
       "<style scoped>\n",
       "    .dataframe tbody tr th:only-of-type {\n",
       "        vertical-align: middle;\n",
       "    }\n",
       "\n",
       "    .dataframe tbody tr th {\n",
       "        vertical-align: top;\n",
       "    }\n",
       "\n",
       "    .dataframe thead th {\n",
       "        text-align: right;\n",
       "    }\n",
       "</style>\n",
       "<table border=\"1\" class=\"dataframe\">\n",
       "  <thead>\n",
       "    <tr style=\"text-align: right;\">\n",
       "      <th></th>\n",
       "      <th>id</th>\n",
       "      <th>sex</th>\n",
       "      <th>age</th>\n",
       "      <th>federal_district</th>\n",
       "      <th>type_of_city</th>\n",
       "      <th>knows_election_date</th>\n",
       "      <th>will_vote</th>\n",
       "      <th>candidate</th>\n",
       "      <th>television_usage</th>\n",
       "      <th>internet_usage</th>\n",
       "      <th>education</th>\n",
       "      <th>income</th>\n",
       "      <th>employment</th>\n",
       "      <th>job_type</th>\n",
       "      <th>company_type</th>\n",
       "      <th>weight1</th>\n",
       "    </tr>\n",
       "  </thead>\n",
       "  <tbody>\n",
       "    <tr>\n",
       "      <th>0</th>\n",
       "      <td>07169ed8148ce047</td>\n",
       "      <td>male</td>\n",
       "      <td>18.0</td>\n",
       "      <td>north caucasian</td>\n",
       "      <td>village</td>\n",
       "      <td>named correct date</td>\n",
       "      <td>not sure</td>\n",
       "      <td>Putin</td>\n",
       "      <td>several times a week</td>\n",
       "      <td>over 4 hours a day</td>\n",
       "      <td>incomplete school education</td>\n",
       "      <td>very high</td>\n",
       "      <td>entrepreneur</td>\n",
       "      <td>NaN</td>\n",
       "      <td>farming</td>\n",
       "      <td>1.445172</td>\n",
       "    </tr>\n",
       "    <tr>\n",
       "      <th>1</th>\n",
       "      <td>0716a4f3354cecdd</td>\n",
       "      <td>male</td>\n",
       "      <td>23.0</td>\n",
       "      <td>north caucasian</td>\n",
       "      <td>village</td>\n",
       "      <td>named correct date</td>\n",
       "      <td>not sure</td>\n",
       "      <td>Putin</td>\n",
       "      <td>once half a year</td>\n",
       "      <td>over 4 hours a day</td>\n",
       "      <td>college</td>\n",
       "      <td>very high</td>\n",
       "      <td>work for hire</td>\n",
       "      <td>commercial organization</td>\n",
       "      <td>trade</td>\n",
       "      <td>1.445172</td>\n",
       "    </tr>\n",
       "    <tr>\n",
       "      <th>2</th>\n",
       "      <td>0716889b304ce79c</td>\n",
       "      <td>male</td>\n",
       "      <td>20.0</td>\n",
       "      <td>volga</td>\n",
       "      <td>city with population of less than 50k</td>\n",
       "      <td>named correct date</td>\n",
       "      <td>definitely yes</td>\n",
       "      <td>Putin</td>\n",
       "      <td>several times a week</td>\n",
       "      <td>over 4 hours a day</td>\n",
       "      <td>college</td>\n",
       "      <td>very high</td>\n",
       "      <td>work for hire</td>\n",
       "      <td>law enforcement agency</td>\n",
       "      <td>law enforcement agency</td>\n",
       "      <td>1.301691</td>\n",
       "    </tr>\n",
       "    <tr>\n",
       "      <th>3</th>\n",
       "      <td>07168e28b5cce563</td>\n",
       "      <td>male</td>\n",
       "      <td>22.0</td>\n",
       "      <td>northwestern</td>\n",
       "      <td>city with population of 1 million and higher</td>\n",
       "      <td>not sure or no answer</td>\n",
       "      <td>not sure</td>\n",
       "      <td>Davankov</td>\n",
       "      <td>several times a week</td>\n",
       "      <td>over 4 hours a day</td>\n",
       "      <td>college</td>\n",
       "      <td>very high</td>\n",
       "      <td>unemployed</td>\n",
       "      <td>NaN</td>\n",
       "      <td>NaN</td>\n",
       "      <td>1.538628</td>\n",
       "    </tr>\n",
       "    <tr>\n",
       "      <th>4</th>\n",
       "      <td>0716a563914ce549</td>\n",
       "      <td>male</td>\n",
       "      <td>21.0</td>\n",
       "      <td>southern</td>\n",
       "      <td>city with population of 1 million and higher</td>\n",
       "      <td>named correct date</td>\n",
       "      <td>definitely yes</td>\n",
       "      <td>Putin</td>\n",
       "      <td>does not watch</td>\n",
       "      <td>over 4 hours a day</td>\n",
       "      <td>bachelor degree</td>\n",
       "      <td>very high</td>\n",
       "      <td>employed student</td>\n",
       "      <td>commercial organization</td>\n",
       "      <td>tech, programming, communications</td>\n",
       "      <td>1.967015</td>\n",
       "    </tr>\n",
       "  </tbody>\n",
       "</table>\n",
       "</div>"
      ],
      "text/plain": [
       "                 id   sex   age federal_district  \\\n",
       "0  07169ed8148ce047  male  18.0  north caucasian   \n",
       "1  0716a4f3354cecdd  male  23.0  north caucasian   \n",
       "2  0716889b304ce79c  male  20.0            volga   \n",
       "3  07168e28b5cce563  male  22.0     northwestern   \n",
       "4  0716a563914ce549  male  21.0         southern   \n",
       "\n",
       "                                   type_of_city    knows_election_date  \\\n",
       "0                                       village     named correct date   \n",
       "1                                       village     named correct date   \n",
       "2         city with population of less than 50k     named correct date   \n",
       "3  city with population of 1 million and higher  not sure or no answer   \n",
       "4  city with population of 1 million and higher     named correct date   \n",
       "\n",
       "        will_vote candidate      television_usage      internet_usage  \\\n",
       "0        not sure     Putin  several times a week  over 4 hours a day   \n",
       "1        not sure     Putin      once half a year  over 4 hours a day   \n",
       "2  definitely yes     Putin  several times a week  over 4 hours a day   \n",
       "3        not sure  Davankov  several times a week  over 4 hours a day   \n",
       "4  definitely yes     Putin        does not watch  over 4 hours a day   \n",
       "\n",
       "                     education     income        employment  \\\n",
       "0  incomplete school education  very high      entrepreneur   \n",
       "1                      college  very high     work for hire   \n",
       "2                      college  very high     work for hire   \n",
       "3                      college  very high        unemployed   \n",
       "4              bachelor degree  very high  employed student   \n",
       "\n",
       "                  job_type                       company_type   weight1  \n",
       "0                      NaN                            farming  1.445172  \n",
       "1  commercial organization                              trade  1.445172  \n",
       "2   law enforcement agency             law enforcement agency  1.301691  \n",
       "3                      NaN                                NaN  1.538628  \n",
       "4  commercial organization  tech, programming, communications  1.967015  "
      ]
     },
     "execution_count": 6,
     "metadata": {},
     "output_type": "execute_result"
    }
   ],
   "source": [
    "df.head()"
   ]
  },
  {
   "cell_type": "code",
   "execution_count": 7,
   "id": "03733048-435b-4635-8328-d8d8932a4b55",
   "metadata": {},
   "outputs": [
    {
     "data": {
      "text/html": [
       "<div>\n",
       "<style scoped>\n",
       "    .dataframe tbody tr th:only-of-type {\n",
       "        vertical-align: middle;\n",
       "    }\n",
       "\n",
       "    .dataframe tbody tr th {\n",
       "        vertical-align: top;\n",
       "    }\n",
       "\n",
       "    .dataframe thead th {\n",
       "        text-align: right;\n",
       "    }\n",
       "</style>\n",
       "<table border=\"1\" class=\"dataframe\">\n",
       "  <thead>\n",
       "    <tr style=\"text-align: right;\">\n",
       "      <th></th>\n",
       "      <th>id</th>\n",
       "      <th>sex</th>\n",
       "      <th>age</th>\n",
       "      <th>federal_district</th>\n",
       "      <th>type_of_city</th>\n",
       "      <th>knows_election_date</th>\n",
       "      <th>will_vote</th>\n",
       "      <th>candidate</th>\n",
       "      <th>television_usage</th>\n",
       "      <th>internet_usage</th>\n",
       "      <th>education</th>\n",
       "      <th>income</th>\n",
       "      <th>employment</th>\n",
       "      <th>job_type</th>\n",
       "      <th>company_type</th>\n",
       "      <th>weight1</th>\n",
       "    </tr>\n",
       "  </thead>\n",
       "  <tbody>\n",
       "    <tr>\n",
       "      <th>782</th>\n",
       "      <td>0716acbf808cee77</td>\n",
       "      <td>female</td>\n",
       "      <td>44.0</td>\n",
       "      <td>northwestern</td>\n",
       "      <td>city with population of 100-500k</td>\n",
       "      <td>named correct date</td>\n",
       "      <td>definitely yes</td>\n",
       "      <td>Slutskiy</td>\n",
       "      <td>does not watch</td>\n",
       "      <td>less than 4 hours a day</td>\n",
       "      <td>bachelor degree</td>\n",
       "      <td>medium</td>\n",
       "      <td>work for hire</td>\n",
       "      <td>government agency</td>\n",
       "      <td>healthcare</td>\n",
       "      <td>0.750167</td>\n",
       "    </tr>\n",
       "  </tbody>\n",
       "</table>\n",
       "</div>"
      ],
      "text/plain": [
       "                   id     sex   age federal_district  \\\n",
       "782  0716acbf808cee77  female  44.0     northwestern   \n",
       "\n",
       "                         type_of_city knows_election_date       will_vote  \\\n",
       "782  city with population of 100-500k  named correct date  definitely yes   \n",
       "\n",
       "    candidate television_usage           internet_usage        education  \\\n",
       "782  Slutskiy   does not watch  less than 4 hours a day  bachelor degree   \n",
       "\n",
       "     income     employment           job_type company_type   weight1  \n",
       "782  medium  work for hire  government agency   healthcare  0.750167  "
      ]
     },
     "execution_count": 7,
     "metadata": {},
     "output_type": "execute_result"
    }
   ],
   "source": [
    "df.sample()"
   ]
  },
  {
   "cell_type": "code",
   "execution_count": 8,
   "id": "b178fa2c-4990-46d3-9909-507813b9d2c3",
   "metadata": {},
   "outputs": [
    {
     "name": "stdout",
     "output_type": "stream",
     "text": [
      "<class 'pandas.core.frame.DataFrame'>\n",
      "RangeIndex: 1600 entries, 0 to 1599\n",
      "Data columns (total 16 columns):\n",
      " #   Column               Non-Null Count  Dtype  \n",
      "---  ------               --------------  -----  \n",
      " 0   id                   1600 non-null   object \n",
      " 1   sex                  1600 non-null   object \n",
      " 2   age                  1600 non-null   float64\n",
      " 3   federal_district     1600 non-null   object \n",
      " 4   type_of_city         1600 non-null   object \n",
      " 5   knows_election_date  1600 non-null   object \n",
      " 6   will_vote            1600 non-null   object \n",
      " 7   candidate            1600 non-null   object \n",
      " 8   television_usage     1600 non-null   object \n",
      " 9   internet_usage       1600 non-null   object \n",
      " 10  education            1600 non-null   object \n",
      " 11  income               1600 non-null   object \n",
      " 12  employment           1600 non-null   object \n",
      " 13  job_type             692 non-null    object \n",
      " 14  company_type         879 non-null    object \n",
      " 15  weight1              1600 non-null   float64\n",
      "dtypes: float64(2), object(14)\n",
      "memory usage: 200.1+ KB\n"
     ]
    }
   ],
   "source": [
    "df.info()"
   ]
  },
  {
   "cell_type": "markdown",
   "id": "713633a4-9641-4c3d-bdbf-47a6da300e0f",
   "metadata": {},
   "source": [
    "The dataset has 1600 entries and 16 columns.\n",
    "\n",
    "There are 2 numerical columns (age and weight1) and 14 categorical columns.\n",
    "\n",
    "Some columns like job_type and company_type have missing values."
   ]
  },
  {
   "cell_type": "code",
   "execution_count": 10,
   "id": "53f4a231-df39-4635-adb4-6f1f7289dc72",
   "metadata": {},
   "outputs": [
    {
     "data": {
      "text/plain": [
       "id                      object\n",
       "sex                     object\n",
       "age                    float64\n",
       "federal_district        object\n",
       "type_of_city            object\n",
       "knows_election_date     object\n",
       "will_vote               object\n",
       "candidate               object\n",
       "television_usage        object\n",
       "internet_usage          object\n",
       "education               object\n",
       "income                  object\n",
       "employment              object\n",
       "job_type                object\n",
       "company_type            object\n",
       "weight1                float64\n",
       "dtype: object"
      ]
     },
     "execution_count": 10,
     "metadata": {},
     "output_type": "execute_result"
    }
   ],
   "source": [
    "df.dtypes"
   ]
  },
  {
   "cell_type": "code",
   "execution_count": 11,
   "id": "53a255a3-0e21-4932-975d-096affa0c0bc",
   "metadata": {},
   "outputs": [
    {
     "data": {
      "text/html": [
       "<div>\n",
       "<style scoped>\n",
       "    .dataframe tbody tr th:only-of-type {\n",
       "        vertical-align: middle;\n",
       "    }\n",
       "\n",
       "    .dataframe tbody tr th {\n",
       "        vertical-align: top;\n",
       "    }\n",
       "\n",
       "    .dataframe thead th {\n",
       "        text-align: right;\n",
       "    }\n",
       "</style>\n",
       "<table border=\"1\" class=\"dataframe\">\n",
       "  <thead>\n",
       "    <tr style=\"text-align: right;\">\n",
       "      <th></th>\n",
       "      <th>age</th>\n",
       "      <th>weight1</th>\n",
       "    </tr>\n",
       "  </thead>\n",
       "  <tbody>\n",
       "    <tr>\n",
       "      <th>count</th>\n",
       "      <td>1600.000000</td>\n",
       "      <td>1600.000000</td>\n",
       "    </tr>\n",
       "    <tr>\n",
       "      <th>mean</th>\n",
       "      <td>49.936250</td>\n",
       "      <td>1.000000</td>\n",
       "    </tr>\n",
       "    <tr>\n",
       "      <th>std</th>\n",
       "      <td>16.901797</td>\n",
       "      <td>0.327084</td>\n",
       "    </tr>\n",
       "    <tr>\n",
       "      <th>min</th>\n",
       "      <td>18.000000</td>\n",
       "      <td>0.468226</td>\n",
       "    </tr>\n",
       "    <tr>\n",
       "      <th>25%</th>\n",
       "      <td>37.000000</td>\n",
       "      <td>0.772224</td>\n",
       "    </tr>\n",
       "    <tr>\n",
       "      <th>50%</th>\n",
       "      <td>49.000000</td>\n",
       "      <td>0.921724</td>\n",
       "    </tr>\n",
       "    <tr>\n",
       "      <th>75%</th>\n",
       "      <td>64.000000</td>\n",
       "      <td>1.158913</td>\n",
       "    </tr>\n",
       "    <tr>\n",
       "      <th>max</th>\n",
       "      <td>90.000000</td>\n",
       "      <td>2.515072</td>\n",
       "    </tr>\n",
       "  </tbody>\n",
       "</table>\n",
       "</div>"
      ],
      "text/plain": [
       "               age      weight1\n",
       "count  1600.000000  1600.000000\n",
       "mean     49.936250     1.000000\n",
       "std      16.901797     0.327084\n",
       "min      18.000000     0.468226\n",
       "25%      37.000000     0.772224\n",
       "50%      49.000000     0.921724\n",
       "75%      64.000000     1.158913\n",
       "max      90.000000     2.515072"
      ]
     },
     "execution_count": 11,
     "metadata": {},
     "output_type": "execute_result"
    }
   ],
   "source": [
    "df.describe()"
   ]
  },
  {
   "cell_type": "code",
   "execution_count": 12,
   "id": "c7792782-5a35-47a8-8fae-100dc709d016",
   "metadata": {},
   "outputs": [
    {
     "data": {
      "text/plain": [
       "0"
      ]
     },
     "execution_count": 12,
     "metadata": {},
     "output_type": "execute_result"
    }
   ],
   "source": [
    "df.duplicated().sum()"
   ]
  },
  {
   "cell_type": "markdown",
   "id": "9671b633-c78e-4fbd-a19a-344225d791c3",
   "metadata": {},
   "source": [
    "There are 0 duplicate rows in the dataset, which indicates the data is clean and doesn't have repeated entries."
   ]
  },
  {
   "cell_type": "code",
   "execution_count": 14,
   "id": "2576e6bd-8d83-4e39-bd1e-ee63a6e23ef4",
   "metadata": {},
   "outputs": [
    {
     "data": {
      "text/plain": [
       "id                       0\n",
       "sex                      0\n",
       "age                      0\n",
       "federal_district         0\n",
       "type_of_city             0\n",
       "knows_election_date      0\n",
       "will_vote                0\n",
       "candidate                0\n",
       "television_usage         0\n",
       "internet_usage           0\n",
       "education                0\n",
       "income                   0\n",
       "employment               0\n",
       "job_type               908\n",
       "company_type           721\n",
       "weight1                  0\n",
       "dtype: int64"
      ]
     },
     "execution_count": 14,
     "metadata": {},
     "output_type": "execute_result"
    }
   ],
   "source": [
    "df.isnull().sum()"
   ]
  },
  {
   "cell_type": "markdown",
   "id": "dccafd87-4adb-4e33-a9e2-c08eac9bffff",
   "metadata": {},
   "source": [
    "job_type has 908 missing values.\n",
    "\n",
    "company_type has 721 missing values.\n",
    "\n",
    "All other columns are complete (no missing values)."
   ]
  },
  {
   "cell_type": "code",
   "execution_count": 16,
   "id": "56e31423-79aa-4e79-9bd3-d1bfda70886d",
   "metadata": {},
   "outputs": [
    {
     "data": {
      "text/plain": [
       "job_type\n",
       "commercial organization                    445\n",
       "government agency                          163\n",
       "law enforcement agency                      33\n",
       "non-profit agency                           22\n",
       "hard to say                                 22\n",
       "government, management, judicial bodies      7\n",
       "Name: count, dtype: int64"
      ]
     },
     "execution_count": 16,
     "metadata": {},
     "output_type": "execute_result"
    }
   ],
   "source": [
    "df[\"job_type\"].value_counts()"
   ]
  },
  {
   "cell_type": "code",
   "execution_count": 17,
   "id": "fee6c1d1-95e4-4b76-8ae5-9a99b12c5a5c",
   "metadata": {},
   "outputs": [],
   "source": [
    "df[\"job_type\"].fillna(\"Other\",inplace=True)"
   ]
  },
  {
   "cell_type": "code",
   "execution_count": 18,
   "id": "1e810e88-970b-4750-bedb-c8bff28ff8fe",
   "metadata": {},
   "outputs": [
    {
     "data": {
      "text/plain": [
       "job_type\n",
       "Other                                      908\n",
       "commercial organization                    445\n",
       "government agency                          163\n",
       "law enforcement agency                      33\n",
       "non-profit agency                           22\n",
       "hard to say                                 22\n",
       "government, management, judicial bodies      7\n",
       "Name: count, dtype: int64"
      ]
     },
     "execution_count": 18,
     "metadata": {},
     "output_type": "execute_result"
    }
   ],
   "source": [
    "df[\"job_type\"].value_counts()"
   ]
  },
  {
   "cell_type": "code",
   "execution_count": 19,
   "id": "61bad2dd-9eca-4250-bee4-cbf4387c2fde",
   "metadata": {},
   "outputs": [
    {
     "data": {
      "text/plain": [
       "company_type\n",
       "industry, manufacturing                                                                                                     138\n",
       "trade                                                                                                                       113\n",
       "education                                                                                                                    85\n",
       "Сфера услуг, сервиса, бытового обслуживания Включает в том числе: Прачечная/химчистка, ремонт мебели, часов, ювелирны...     70\n",
       "construction, architecture                                                                                                   67\n",
       "transportation, storage                                                                                                      51\n",
       "farming                                                                                                                      44\n",
       "law enforcement agency                                                                                                       42\n",
       "healthcare                                                                                                                   39\n",
       "other                                                                                                                        39\n",
       "tech, programming, communications                                                                                            33\n",
       "housing and communal services                                                                                                30\n",
       "catering, restaurants                                                                                                        25\n",
       "finances                                                                                                                     22\n",
       "social services                                                                                                              20\n",
       "culture, sports                                                                                                              16\n",
       "refused to answer                                                                                                            12\n",
       "hard to say                                                                                                                  11\n",
       "state administration                                                                                                          8\n",
       "entertainment, tourism                                                                                                        7\n",
       "media                                                                                                                         7\n",
       "Name: count, dtype: int64"
      ]
     },
     "execution_count": 19,
     "metadata": {},
     "output_type": "execute_result"
    }
   ],
   "source": [
    "df[\"company_type\"].value_counts()"
   ]
  },
  {
   "cell_type": "code",
   "execution_count": 20,
   "id": "6914c353-35b5-4d26-940a-4b71503e7e0d",
   "metadata": {},
   "outputs": [],
   "source": [
    "df[\"company_type\"].fillna(\"Other\",inplace=True)"
   ]
  },
  {
   "cell_type": "markdown",
   "id": "1558b044-abb5-40a2-893f-cd9651c48b84",
   "metadata": {},
   "source": [
    "the missing values in job_type and company_type by filling them with the category \"Other.\" This avoids dropping rows and maintains the dataset's size."
   ]
  },
  {
   "cell_type": "code",
   "execution_count": 22,
   "id": "1bed965c-4009-4ba8-b1d3-2a7db93cac76",
   "metadata": {},
   "outputs": [
    {
     "data": {
      "text/plain": [
       "company_type\n",
       "Other                                                                                                                       721\n",
       "industry, manufacturing                                                                                                     138\n",
       "trade                                                                                                                       113\n",
       "education                                                                                                                    85\n",
       "Сфера услуг, сервиса, бытового обслуживания Включает в том числе: Прачечная/химчистка, ремонт мебели, часов, ювелирны...     70\n",
       "construction, architecture                                                                                                   67\n",
       "transportation, storage                                                                                                      51\n",
       "farming                                                                                                                      44\n",
       "law enforcement agency                                                                                                       42\n",
       "healthcare                                                                                                                   39\n",
       "other                                                                                                                        39\n",
       "tech, programming, communications                                                                                            33\n",
       "housing and communal services                                                                                                30\n",
       "catering, restaurants                                                                                                        25\n",
       "finances                                                                                                                     22\n",
       "social services                                                                                                              20\n",
       "culture, sports                                                                                                              16\n",
       "refused to answer                                                                                                            12\n",
       "hard to say                                                                                                                  11\n",
       "state administration                                                                                                          8\n",
       "entertainment, tourism                                                                                                        7\n",
       "media                                                                                                                         7\n",
       "Name: count, dtype: int64"
      ]
     },
     "execution_count": 22,
     "metadata": {},
     "output_type": "execute_result"
    }
   ],
   "source": [
    "df[\"company_type\"].value_counts()"
   ]
  },
  {
   "cell_type": "code",
   "execution_count": 23,
   "id": "2bd99da0-4571-4efa-adc9-70eaebe69918",
   "metadata": {},
   "outputs": [
    {
     "data": {
      "text/plain": [
       "id                     0\n",
       "sex                    0\n",
       "age                    0\n",
       "federal_district       0\n",
       "type_of_city           0\n",
       "knows_election_date    0\n",
       "will_vote              0\n",
       "candidate              0\n",
       "television_usage       0\n",
       "internet_usage         0\n",
       "education              0\n",
       "income                 0\n",
       "employment             0\n",
       "job_type               0\n",
       "company_type           0\n",
       "weight1                0\n",
       "dtype: int64"
      ]
     },
     "execution_count": 23,
     "metadata": {},
     "output_type": "execute_result"
    }
   ],
   "source": [
    "df.isnull().sum()"
   ]
  },
  {
   "cell_type": "code",
   "execution_count": 24,
   "id": "30acc3b8-431e-4c46-8322-2faf257c33ce",
   "metadata": {},
   "outputs": [],
   "source": [
    "df.drop(\"id\",axis=1,inplace=True)"
   ]
  },
  {
   "cell_type": "markdown",
   "id": "46538ea1-11d9-44fb-82f3-dc906354ac22",
   "metadata": {},
   "source": [
    "The id column is dropped as it's irrelevant for analysis and model-building purposes."
   ]
  },
  {
   "cell_type": "code",
   "execution_count": 26,
   "id": "e54044cc-2967-4df4-89f4-9d367ec7a5f9",
   "metadata": {},
   "outputs": [
    {
     "data": {
      "text/html": [
       "<div>\n",
       "<style scoped>\n",
       "    .dataframe tbody tr th:only-of-type {\n",
       "        vertical-align: middle;\n",
       "    }\n",
       "\n",
       "    .dataframe tbody tr th {\n",
       "        vertical-align: top;\n",
       "    }\n",
       "\n",
       "    .dataframe thead th {\n",
       "        text-align: right;\n",
       "    }\n",
       "</style>\n",
       "<table border=\"1\" class=\"dataframe\">\n",
       "  <thead>\n",
       "    <tr style=\"text-align: right;\">\n",
       "      <th></th>\n",
       "      <th>sex</th>\n",
       "      <th>age</th>\n",
       "      <th>federal_district</th>\n",
       "      <th>type_of_city</th>\n",
       "      <th>knows_election_date</th>\n",
       "      <th>will_vote</th>\n",
       "      <th>candidate</th>\n",
       "      <th>television_usage</th>\n",
       "      <th>internet_usage</th>\n",
       "      <th>education</th>\n",
       "      <th>income</th>\n",
       "      <th>employment</th>\n",
       "      <th>job_type</th>\n",
       "      <th>company_type</th>\n",
       "      <th>weight1</th>\n",
       "    </tr>\n",
       "  </thead>\n",
       "  <tbody>\n",
       "    <tr>\n",
       "      <th>0</th>\n",
       "      <td>male</td>\n",
       "      <td>18.0</td>\n",
       "      <td>north caucasian</td>\n",
       "      <td>village</td>\n",
       "      <td>named correct date</td>\n",
       "      <td>not sure</td>\n",
       "      <td>Putin</td>\n",
       "      <td>several times a week</td>\n",
       "      <td>over 4 hours a day</td>\n",
       "      <td>incomplete school education</td>\n",
       "      <td>very high</td>\n",
       "      <td>entrepreneur</td>\n",
       "      <td>Other</td>\n",
       "      <td>farming</td>\n",
       "      <td>1.445172</td>\n",
       "    </tr>\n",
       "    <tr>\n",
       "      <th>1</th>\n",
       "      <td>male</td>\n",
       "      <td>23.0</td>\n",
       "      <td>north caucasian</td>\n",
       "      <td>village</td>\n",
       "      <td>named correct date</td>\n",
       "      <td>not sure</td>\n",
       "      <td>Putin</td>\n",
       "      <td>once half a year</td>\n",
       "      <td>over 4 hours a day</td>\n",
       "      <td>college</td>\n",
       "      <td>very high</td>\n",
       "      <td>work for hire</td>\n",
       "      <td>commercial organization</td>\n",
       "      <td>trade</td>\n",
       "      <td>1.445172</td>\n",
       "    </tr>\n",
       "    <tr>\n",
       "      <th>2</th>\n",
       "      <td>male</td>\n",
       "      <td>20.0</td>\n",
       "      <td>volga</td>\n",
       "      <td>city with population of less than 50k</td>\n",
       "      <td>named correct date</td>\n",
       "      <td>definitely yes</td>\n",
       "      <td>Putin</td>\n",
       "      <td>several times a week</td>\n",
       "      <td>over 4 hours a day</td>\n",
       "      <td>college</td>\n",
       "      <td>very high</td>\n",
       "      <td>work for hire</td>\n",
       "      <td>law enforcement agency</td>\n",
       "      <td>law enforcement agency</td>\n",
       "      <td>1.301691</td>\n",
       "    </tr>\n",
       "    <tr>\n",
       "      <th>3</th>\n",
       "      <td>male</td>\n",
       "      <td>22.0</td>\n",
       "      <td>northwestern</td>\n",
       "      <td>city with population of 1 million and higher</td>\n",
       "      <td>not sure or no answer</td>\n",
       "      <td>not sure</td>\n",
       "      <td>Davankov</td>\n",
       "      <td>several times a week</td>\n",
       "      <td>over 4 hours a day</td>\n",
       "      <td>college</td>\n",
       "      <td>very high</td>\n",
       "      <td>unemployed</td>\n",
       "      <td>Other</td>\n",
       "      <td>Other</td>\n",
       "      <td>1.538628</td>\n",
       "    </tr>\n",
       "    <tr>\n",
       "      <th>4</th>\n",
       "      <td>male</td>\n",
       "      <td>21.0</td>\n",
       "      <td>southern</td>\n",
       "      <td>city with population of 1 million and higher</td>\n",
       "      <td>named correct date</td>\n",
       "      <td>definitely yes</td>\n",
       "      <td>Putin</td>\n",
       "      <td>does not watch</td>\n",
       "      <td>over 4 hours a day</td>\n",
       "      <td>bachelor degree</td>\n",
       "      <td>very high</td>\n",
       "      <td>employed student</td>\n",
       "      <td>commercial organization</td>\n",
       "      <td>tech, programming, communications</td>\n",
       "      <td>1.967015</td>\n",
       "    </tr>\n",
       "  </tbody>\n",
       "</table>\n",
       "</div>"
      ],
      "text/plain": [
       "    sex   age federal_district                                  type_of_city  \\\n",
       "0  male  18.0  north caucasian                                       village   \n",
       "1  male  23.0  north caucasian                                       village   \n",
       "2  male  20.0            volga         city with population of less than 50k   \n",
       "3  male  22.0     northwestern  city with population of 1 million and higher   \n",
       "4  male  21.0         southern  city with population of 1 million and higher   \n",
       "\n",
       "     knows_election_date       will_vote candidate      television_usage  \\\n",
       "0     named correct date        not sure     Putin  several times a week   \n",
       "1     named correct date        not sure     Putin      once half a year   \n",
       "2     named correct date  definitely yes     Putin  several times a week   \n",
       "3  not sure or no answer        not sure  Davankov  several times a week   \n",
       "4     named correct date  definitely yes     Putin        does not watch   \n",
       "\n",
       "       internet_usage                    education     income  \\\n",
       "0  over 4 hours a day  incomplete school education  very high   \n",
       "1  over 4 hours a day                      college  very high   \n",
       "2  over 4 hours a day                      college  very high   \n",
       "3  over 4 hours a day                      college  very high   \n",
       "4  over 4 hours a day              bachelor degree  very high   \n",
       "\n",
       "         employment                 job_type  \\\n",
       "0      entrepreneur                    Other   \n",
       "1     work for hire  commercial organization   \n",
       "2     work for hire   law enforcement agency   \n",
       "3        unemployed                    Other   \n",
       "4  employed student  commercial organization   \n",
       "\n",
       "                        company_type   weight1  \n",
       "0                            farming  1.445172  \n",
       "1                              trade  1.445172  \n",
       "2             law enforcement agency  1.301691  \n",
       "3                              Other  1.538628  \n",
       "4  tech, programming, communications  1.967015  "
      ]
     },
     "execution_count": 26,
     "metadata": {},
     "output_type": "execute_result"
    }
   ],
   "source": [
    "df.head()"
   ]
  },
  {
   "cell_type": "markdown",
   "id": "b4ceef1b-f187-4186-ac12-6b7984bdcd3b",
   "metadata": {},
   "source": [
    "# EDA (Exploratory Data Analysis)"
   ]
  },
  {
   "cell_type": "code",
   "execution_count": 28,
   "id": "c538883b-9d22-4f2f-83ff-2c2799d37a90",
   "metadata": {},
   "outputs": [
    {
     "data": {
      "text/plain": [
       "sex\n",
       "female    843\n",
       "male      757\n",
       "Name: count, dtype: int64"
      ]
     },
     "execution_count": 28,
     "metadata": {},
     "output_type": "execute_result"
    }
   ],
   "source": [
    "df[\"sex\"].value_counts()"
   ]
  },
  {
   "cell_type": "markdown",
   "id": "bf19af9c-e59d-4f33-b83c-e4fd04114a7b",
   "metadata": {},
   "source": [
    "The dataset consists of 843 females (52.69%) and 757 males (47.31%)."
   ]
  },
  {
   "cell_type": "code",
   "execution_count": 30,
   "id": "33de5f5e-bbac-42b0-8d33-bc89c5e67842",
   "metadata": {},
   "outputs": [
    {
     "data": {
      "image/png": "[encoded data removed]",
      "text/plain": [
       "<Figure size 640x480 with 1 Axes>"
      ]
     },
     "metadata": {},
     "output_type": "display_data"
    }
   ],
   "source": [
    "#pie chart\n",
    "plt.pie(df[\"sex\"].value_counts(),labels=[\"Female\",\"Male\"],autopct=\"%0.2f%%\")\n",
    "plt.show()"
   ]
  },
  {
   "cell_type": "markdown",
   "id": "a726a823-d6c9-477a-96ca-5c09a14841d0",
   "metadata": {},
   "source": [
    "The proportion of female respondents is slightly higher than male respondents, but the distribution is relatively balanced."
   ]
  },
  {
   "cell_type": "code",
   "execution_count": 32,
   "id": "8aa3e12c-8728-475d-9319-edd0eeb0a1bb",
   "metadata": {},
   "outputs": [
    {
     "data": {
      "image/png": "[encoded data removed]",
      "text/plain": [
       "<Figure size 640x480 with 1 Axes>"
      ]
     },
     "metadata": {},
     "output_type": "display_data"
    }
   ],
   "source": [
    "plt.hist(df[\"age\"])\n",
    "plt.show()"
   ]
  },
  {
   "cell_type": "markdown",
   "id": "8c71b298-713b-4c71-80a1-4bf20c9051cd",
   "metadata": {},
   "source": [
    "The age distribution forms a fairly normal curve, with most respondents concentrated around the 30–60 age range.\n",
    "\n",
    "There is a slight right skew, as a smaller number of respondents are in the 60+ age range."
   ]
  },
  {
   "cell_type": "code",
   "execution_count": 34,
   "id": "10ae17ad-8de5-4321-b640-e0179e6ffbd7",
   "metadata": {},
   "outputs": [
    {
     "data": {
      "text/plain": [
       "count    1600.000000\n",
       "mean       49.936250\n",
       "std        16.901797\n",
       "min        18.000000\n",
       "25%        37.000000\n",
       "50%        49.000000\n",
       "75%        64.000000\n",
       "max        90.000000\n",
       "Name: age, dtype: float64"
      ]
     },
     "execution_count": 34,
     "metadata": {},
     "output_type": "execute_result"
    }
   ],
   "source": [
    "df[\"age\"].describe()"
   ]
  },
  {
   "cell_type": "markdown",
   "id": "193905c9-26d1-4e79-8538-36d958965306",
   "metadata": {},
   "source": [
    "**Age Statistics:**\n",
    "\n",
    "The dataset includes 1600 respondents with an average age of 49.94 years.\n",
    "\n",
    "The minimum age is 18 (likely the legal voting age) and the maximum age is 90.\n",
    "\n",
    "The age distribution has a standard deviation of 16.9, indicating a fairly wide spread in age across the respondents.\n",
    "\n",
    "**Percentiles:**\n",
    "\n",
    "25% of respondents are younger than 37 years.\n",
    "\n",
    "The median age is 49 years, showing that half of the respondents are younger than 49 and half are older.\n",
    "\n",
    "75% of respondents are younger than 64 years."
   ]
  },
  {
   "cell_type": "code",
   "execution_count": 36,
   "id": "cfba0453-250f-496d-93e0-cc619d80cbf4",
   "metadata": {},
   "outputs": [
    {
     "data": {
      "image/png": "[encoded data removed]",
      "text/plain": [
       "<Figure size 640x480 with 1 Axes>"
      ]
     },
     "metadata": {},
     "output_type": "display_data"
    }
   ],
   "source": [
    "plt.pie(df[\"candidate\"].value_counts(),labels=df[\"candidate\"].value_counts().index,autopct=\"%0.2f%%\")\n",
    "plt.show()"
   ]
  },
  {
   "cell_type": "markdown",
   "id": "09cb773d-802a-428e-a25b-62f1785e921d",
   "metadata": {},
   "source": [
    "The pie chart visualizes the proportion of support for each candidate and other categories (e.g., undecided voters, non-participants, spoilt votes):\n",
    "\n",
    "Vladimir Putin has the largest slice of the pie, indicating 70.50% support.\n",
    "\n",
    "Undecided voters (10.25%) and those who will not take part (6%) together make up a notable portion of the pie.\n",
    "\n",
    "Other candidates, including Davankov (4.19%), Kharitonov (3.94%), and Slutskiy (3.44%), have relatively smaller slices. \n",
    "\n",
    "Spoilt votes account for 1.69%."
   ]
  },
  {
   "cell_type": "code",
   "execution_count": 38,
   "id": "7e5df632-b24a-4eda-aaf5-62513e00bb9c",
   "metadata": {},
   "outputs": [
    {
     "data": {
      "text/plain": [
       "candidate\n",
       "Putin                 1128\n",
       "struggle to answer     164\n",
       "will not take part      96\n",
       "Davankov                67\n",
       "Kharitonov              63\n",
       "Slutskiy                55\n",
       "spoilt vote             27\n",
       "Name: count, dtype: int64"
      ]
     },
     "execution_count": 38,
     "metadata": {},
     "output_type": "execute_result"
    }
   ],
   "source": [
    "df[\"candidate\"].value_counts()"
   ]
  },
  {
   "cell_type": "markdown",
   "id": "dcd21571-9424-447e-8317-644e20fcdae4",
   "metadata": {},
   "source": [
    "Vladimir Putin has the overwhelming majority of support, with 1128 respondents (70.50%) selecting him as their preferred candidate.\n",
    "\n",
    "164 respondents (10.25%) are undecided, as they “struggle to answer.”\n",
    "\n",
    "96 respondents (6%) indicated they will not take part in the election.\n",
    "\n",
    "Other candidates have significantly lower support:\n",
    "\n",
    "Davankov: 67 respondents (4.19%)\n",
    "\n",
    "Kharitonov: 63 respondents (3.94%)\n",
    "\n",
    "Slutskiy: 55 respondents (3.44%)\n",
    "\n",
    "27 respondents (1.69%) plan to cast a \"spoilt vote,\" indicating dissatisfaction with all options."
   ]
  },
  {
   "cell_type": "code",
   "execution_count": 40,
   "id": "4556905b-510d-45ea-912f-7c5de6333cce",
   "metadata": {},
   "outputs": [
    {
     "data": {
      "text/plain": [
       "will_vote\n",
       "definitely yes        1062\n",
       "likely yes             218\n",
       "not sure               166\n",
       "definitely no           86\n",
       "likely no               55\n",
       "struggle to answer      13\n",
       "Name: count, dtype: int64"
      ]
     },
     "execution_count": 40,
     "metadata": {},
     "output_type": "execute_result"
    }
   ],
   "source": [
    "#Let's check Voting situation\n",
    "df[\"will_vote\"].value_counts()"
   ]
  },
  {
   "cell_type": "markdown",
   "id": "a1755f9d-e4e7-4c2b-ba3b-ce252d9e41b1",
   "metadata": {},
   "source": [
    "The majority of respondents (about 80%) are inclined to vote, with most being firm in their decision. However, there is a significant group of undecided and non-voters (~20%) that could potentially impact the election, depending on how their opinions evolve leading up to the election day."
   ]
  },
  {
   "cell_type": "code",
   "execution_count": 42,
   "id": "b25ba27b-9ad0-48ab-b939-62d4ea5c4aab",
   "metadata": {},
   "outputs": [
    {
     "data": {
      "image/png": "[encoded data removed]",
      "text/plain": [
       "<Figure size 1000x500 with 1 Axes>"
      ]
     },
     "metadata": {},
     "output_type": "display_data"
    }
   ],
   "source": [
    "plt.figure(figsize=(10, 5))\n",
    "#df = your_dataframe_here  # Assign your DataFrame to the variable df\n",
    "\n",
    "sns.barplot(x=df[\"will_vote\"].value_counts().index, y=df[\"will_vote\"].value_counts(),hue=df[\"will_vote\"].value_counts().index)\n",
    "plt.xticks(rotation=90)\n",
    "\n",
    "for i, count in enumerate(df[\"will_vote\"].value_counts()):\n",
    "    plt.text(i, count, str(count), ha=\"center\", va=\"bottom\")\n",
    "\n",
    "plt.show()"
   ]
  },
  {
   "cell_type": "markdown",
   "id": "70a91c9a-5734-4dc9-a5e1-679b2cd72c28",
   "metadata": {},
   "source": [
    "The bar plot highlights the strong voting intention, with the majority (over 80%) of respondents either definitely or likely planning to vote.\n",
    "There is still a portion of respondents who are either unsure or unlikely to vote, but these groups are much smaller in comparison."
   ]
  },
  {
   "cell_type": "code",
   "execution_count": 44,
   "id": "84447ac3-6c4e-4f42-b627-c8154d9a8c7f",
   "metadata": {},
   "outputs": [
    {
     "data": {
      "text/html": [
       "<div>\n",
       "<style scoped>\n",
       "    .dataframe tbody tr th:only-of-type {\n",
       "        vertical-align: middle;\n",
       "    }\n",
       "\n",
       "    .dataframe tbody tr th {\n",
       "        vertical-align: top;\n",
       "    }\n",
       "\n",
       "    .dataframe thead th {\n",
       "        text-align: right;\n",
       "    }\n",
       "</style>\n",
       "<table border=\"1\" class=\"dataframe\">\n",
       "  <thead>\n",
       "    <tr style=\"text-align: right;\">\n",
       "      <th></th>\n",
       "      <th>sex</th>\n",
       "      <th>age</th>\n",
       "      <th>federal_district</th>\n",
       "      <th>type_of_city</th>\n",
       "      <th>knows_election_date</th>\n",
       "      <th>will_vote</th>\n",
       "      <th>candidate</th>\n",
       "      <th>television_usage</th>\n",
       "      <th>internet_usage</th>\n",
       "      <th>education</th>\n",
       "      <th>income</th>\n",
       "      <th>employment</th>\n",
       "      <th>job_type</th>\n",
       "      <th>company_type</th>\n",
       "      <th>weight1</th>\n",
       "    </tr>\n",
       "  </thead>\n",
       "  <tbody>\n",
       "    <tr>\n",
       "      <th>2</th>\n",
       "      <td>male</td>\n",
       "      <td>20.0</td>\n",
       "      <td>volga</td>\n",
       "      <td>city with population of less than 50k</td>\n",
       "      <td>named correct date</td>\n",
       "      <td>definitely yes</td>\n",
       "      <td>Putin</td>\n",
       "      <td>several times a week</td>\n",
       "      <td>over 4 hours a day</td>\n",
       "      <td>college</td>\n",
       "      <td>very high</td>\n",
       "      <td>work for hire</td>\n",
       "      <td>law enforcement agency</td>\n",
       "      <td>law enforcement agency</td>\n",
       "      <td>1.301691</td>\n",
       "    </tr>\n",
       "    <tr>\n",
       "      <th>4</th>\n",
       "      <td>male</td>\n",
       "      <td>21.0</td>\n",
       "      <td>southern</td>\n",
       "      <td>city with population of 1 million and higher</td>\n",
       "      <td>named correct date</td>\n",
       "      <td>definitely yes</td>\n",
       "      <td>Putin</td>\n",
       "      <td>does not watch</td>\n",
       "      <td>over 4 hours a day</td>\n",
       "      <td>bachelor degree</td>\n",
       "      <td>very high</td>\n",
       "      <td>employed student</td>\n",
       "      <td>commercial organization</td>\n",
       "      <td>tech, programming, communications</td>\n",
       "      <td>1.967015</td>\n",
       "    </tr>\n",
       "    <tr>\n",
       "      <th>6</th>\n",
       "      <td>male</td>\n",
       "      <td>37.0</td>\n",
       "      <td>northwestern</td>\n",
       "      <td>city with population of less than 50k</td>\n",
       "      <td>named correct date</td>\n",
       "      <td>definitely yes</td>\n",
       "      <td>Putin</td>\n",
       "      <td>once half a year</td>\n",
       "      <td>several times a week</td>\n",
       "      <td>school</td>\n",
       "      <td>very high</td>\n",
       "      <td>work for hire</td>\n",
       "      <td>commercial organization</td>\n",
       "      <td>industry, manufacturing</td>\n",
       "      <td>0.579384</td>\n",
       "    </tr>\n",
       "    <tr>\n",
       "      <th>7</th>\n",
       "      <td>male</td>\n",
       "      <td>43.0</td>\n",
       "      <td>southern</td>\n",
       "      <td>city with population of 50-100k</td>\n",
       "      <td>named correct date</td>\n",
       "      <td>definitely yes</td>\n",
       "      <td>Putin</td>\n",
       "      <td>does not watch</td>\n",
       "      <td>less than 4 hours a day</td>\n",
       "      <td>college</td>\n",
       "      <td>very high</td>\n",
       "      <td>self-employed</td>\n",
       "      <td>Other</td>\n",
       "      <td>other</td>\n",
       "      <td>0.662259</td>\n",
       "    </tr>\n",
       "    <tr>\n",
       "      <th>8</th>\n",
       "      <td>male</td>\n",
       "      <td>39.0</td>\n",
       "      <td>northwestern</td>\n",
       "      <td>city with population of 100-500k</td>\n",
       "      <td>wrong answer</td>\n",
       "      <td>definitely yes</td>\n",
       "      <td>Putin</td>\n",
       "      <td>does not watch</td>\n",
       "      <td>over 4 hours a day</td>\n",
       "      <td>college</td>\n",
       "      <td>very high</td>\n",
       "      <td>unemployed pensioner</td>\n",
       "      <td>Other</td>\n",
       "      <td>Other</td>\n",
       "      <td>0.468226</td>\n",
       "    </tr>\n",
       "    <tr>\n",
       "      <th>...</th>\n",
       "      <td>...</td>\n",
       "      <td>...</td>\n",
       "      <td>...</td>\n",
       "      <td>...</td>\n",
       "      <td>...</td>\n",
       "      <td>...</td>\n",
       "      <td>...</td>\n",
       "      <td>...</td>\n",
       "      <td>...</td>\n",
       "      <td>...</td>\n",
       "      <td>...</td>\n",
       "      <td>...</td>\n",
       "      <td>...</td>\n",
       "      <td>...</td>\n",
       "      <td>...</td>\n",
       "    </tr>\n",
       "    <tr>\n",
       "      <th>1594</th>\n",
       "      <td>male</td>\n",
       "      <td>51.0</td>\n",
       "      <td>north caucasian</td>\n",
       "      <td>city with population of 500-950k</td>\n",
       "      <td>named correct date</td>\n",
       "      <td>likely yes</td>\n",
       "      <td>Putin</td>\n",
       "      <td>several times a week</td>\n",
       "      <td>several times a week</td>\n",
       "      <td>bachelor degree</td>\n",
       "      <td>hard to say</td>\n",
       "      <td>unemployed</td>\n",
       "      <td>Other</td>\n",
       "      <td>Other</td>\n",
       "      <td>0.928472</td>\n",
       "    </tr>\n",
       "    <tr>\n",
       "      <th>1596</th>\n",
       "      <td>female</td>\n",
       "      <td>80.0</td>\n",
       "      <td>volga</td>\n",
       "      <td>village</td>\n",
       "      <td>named correct date</td>\n",
       "      <td>likely yes</td>\n",
       "      <td>struggle to answer</td>\n",
       "      <td>several times a week</td>\n",
       "      <td>does not use internet</td>\n",
       "      <td>college</td>\n",
       "      <td>hard to say</td>\n",
       "      <td>unemployed pensioner</td>\n",
       "      <td>Other</td>\n",
       "      <td>Other</td>\n",
       "      <td>0.921724</td>\n",
       "    </tr>\n",
       "    <tr>\n",
       "      <th>1597</th>\n",
       "      <td>female</td>\n",
       "      <td>76.0</td>\n",
       "      <td>northwestern</td>\n",
       "      <td>city with population of 50-100k</td>\n",
       "      <td>named correct date</td>\n",
       "      <td>definitely yes</td>\n",
       "      <td>Putin</td>\n",
       "      <td>does not watch</td>\n",
       "      <td>over 4 hours a day</td>\n",
       "      <td>bachelor degree</td>\n",
       "      <td>hard to say</td>\n",
       "      <td>unemployed pensioner</td>\n",
       "      <td>Other</td>\n",
       "      <td>Other</td>\n",
       "      <td>1.396691</td>\n",
       "    </tr>\n",
       "    <tr>\n",
       "      <th>1598</th>\n",
       "      <td>female</td>\n",
       "      <td>74.0</td>\n",
       "      <td>central</td>\n",
       "      <td>city with population of less than 50k</td>\n",
       "      <td>not sure or no answer</td>\n",
       "      <td>definitely yes</td>\n",
       "      <td>Putin</td>\n",
       "      <td>over 4 hours a day</td>\n",
       "      <td>over 4 hours a day</td>\n",
       "      <td>academic degree</td>\n",
       "      <td>hard to say</td>\n",
       "      <td>employed pensioner</td>\n",
       "      <td>commercial organization</td>\n",
       "      <td>industry, manufacturing</td>\n",
       "      <td>0.995849</td>\n",
       "    </tr>\n",
       "    <tr>\n",
       "      <th>1599</th>\n",
       "      <td>female</td>\n",
       "      <td>76.0</td>\n",
       "      <td>ural</td>\n",
       "      <td>village</td>\n",
       "      <td>named correct date</td>\n",
       "      <td>definitely yes</td>\n",
       "      <td>Putin</td>\n",
       "      <td>over 4 hours a day</td>\n",
       "      <td>over 4 hours a day</td>\n",
       "      <td>school</td>\n",
       "      <td>hard to say</td>\n",
       "      <td>unemployed pensioner</td>\n",
       "      <td>Other</td>\n",
       "      <td>Other</td>\n",
       "      <td>0.860836</td>\n",
       "    </tr>\n",
       "  </tbody>\n",
       "</table>\n",
       "<p>1280 rows × 15 columns</p>\n",
       "</div>"
      ],
      "text/plain": [
       "         sex   age federal_district  \\\n",
       "2       male  20.0            volga   \n",
       "4       male  21.0         southern   \n",
       "6       male  37.0     northwestern   \n",
       "7       male  43.0         southern   \n",
       "8       male  39.0     northwestern   \n",
       "...      ...   ...              ...   \n",
       "1594    male  51.0  north caucasian   \n",
       "1596  female  80.0            volga   \n",
       "1597  female  76.0     northwestern   \n",
       "1598  female  74.0          central   \n",
       "1599  female  76.0             ural   \n",
       "\n",
       "                                      type_of_city    knows_election_date  \\\n",
       "2            city with population of less than 50k     named correct date   \n",
       "4     city with population of 1 million and higher     named correct date   \n",
       "6            city with population of less than 50k     named correct date   \n",
       "7                  city with population of 50-100k     named correct date   \n",
       "8                 city with population of 100-500k           wrong answer   \n",
       "...                                            ...                    ...   \n",
       "1594              city with population of 500-950k     named correct date   \n",
       "1596                                       village     named correct date   \n",
       "1597               city with population of 50-100k     named correct date   \n",
       "1598         city with population of less than 50k  not sure or no answer   \n",
       "1599                                       village     named correct date   \n",
       "\n",
       "           will_vote           candidate      television_usage  \\\n",
       "2     definitely yes               Putin  several times a week   \n",
       "4     definitely yes               Putin        does not watch   \n",
       "6     definitely yes               Putin      once half a year   \n",
       "7     definitely yes               Putin        does not watch   \n",
       "8     definitely yes               Putin        does not watch   \n",
       "...              ...                 ...                   ...   \n",
       "1594      likely yes               Putin  several times a week   \n",
       "1596      likely yes  struggle to answer  several times a week   \n",
       "1597  definitely yes               Putin        does not watch   \n",
       "1598  definitely yes               Putin    over 4 hours a day   \n",
       "1599  definitely yes               Putin    over 4 hours a day   \n",
       "\n",
       "               internet_usage        education       income  \\\n",
       "2          over 4 hours a day          college    very high   \n",
       "4          over 4 hours a day  bachelor degree    very high   \n",
       "6        several times a week           school    very high   \n",
       "7     less than 4 hours a day          college    very high   \n",
       "8          over 4 hours a day          college    very high   \n",
       "...                       ...              ...          ...   \n",
       "1594     several times a week  bachelor degree  hard to say   \n",
       "1596    does not use internet          college  hard to say   \n",
       "1597       over 4 hours a day  bachelor degree  hard to say   \n",
       "1598       over 4 hours a day  academic degree  hard to say   \n",
       "1599       over 4 hours a day           school  hard to say   \n",
       "\n",
       "                employment                 job_type  \\\n",
       "2            work for hire   law enforcement agency   \n",
       "4         employed student  commercial organization   \n",
       "6            work for hire  commercial organization   \n",
       "7            self-employed                    Other   \n",
       "8     unemployed pensioner                    Other   \n",
       "...                    ...                      ...   \n",
       "1594            unemployed                    Other   \n",
       "1596  unemployed pensioner                    Other   \n",
       "1597  unemployed pensioner                    Other   \n",
       "1598    employed pensioner  commercial organization   \n",
       "1599  unemployed pensioner                    Other   \n",
       "\n",
       "                           company_type   weight1  \n",
       "2                law enforcement agency  1.301691  \n",
       "4     tech, programming, communications  1.967015  \n",
       "6               industry, manufacturing  0.579384  \n",
       "7                                 other  0.662259  \n",
       "8                                 Other  0.468226  \n",
       "...                                 ...       ...  \n",
       "1594                              Other  0.928472  \n",
       "1596                              Other  0.921724  \n",
       "1597                              Other  1.396691  \n",
       "1598            industry, manufacturing  0.995849  \n",
       "1599                              Other  0.860836  \n",
       "\n",
       "[1280 rows x 15 columns]"
      ]
     },
     "execution_count": 44,
     "metadata": {},
     "output_type": "execute_result"
    }
   ],
   "source": [
    "df_vote=df[(df[\"will_vote\"] == \"definitely yes\") | (df[\"will_vote\"] == \"likely yes\")]\n",
    "df_vote"
   ]
  },
  {
   "cell_type": "code",
   "execution_count": 45,
   "id": "4b54803d-d1ac-4493-8c33-3adde58c5acf",
   "metadata": {},
   "outputs": [
    {
     "data": {
      "text/plain": [
       "candidate\n",
       "Putin                 981\n",
       "struggle to answer    119\n",
       "Davankov               60\n",
       "Kharitonov             44\n",
       "Slutskiy               43\n",
       "spoilt vote            24\n",
       "will not take part      9\n",
       "Name: count, dtype: int64"
      ]
     },
     "execution_count": 45,
     "metadata": {},
     "output_type": "execute_result"
    }
   ],
   "source": [
    "df_vote[\"candidate\"].value_counts()"
   ]
  },
  {
   "cell_type": "markdown",
   "id": "9966ae0c-59a0-4dec-82b5-98b87ee7239e",
   "metadata": {},
   "source": [
    "Among likely voters, Vladimir Putin remains the dominant candidate with 981 votes (over 80%), far surpassing all other candidates and responses."
   ]
  },
  {
   "cell_type": "code",
   "execution_count": 47,
   "id": "35a6c5e8-4f2c-4832-8672-d47adad83b98",
   "metadata": {},
   "outputs": [
    {
     "data": {
      "image/png": "[encoded data removed]",
      "text/plain": [
       "<Figure size 640x480 with 1 Axes>"
      ]
     },
     "metadata": {},
     "output_type": "display_data"
    }
   ],
   "source": [
    "plt.pie(df_vote[\"candidate\"].value_counts(),labels=df_vote[\"candidate\"].value_counts().index,autopct=\"%0.2f%%\")\n",
    "plt.show()"
   ]
  },
  {
   "cell_type": "markdown",
   "id": "d258db91-ec69-41a5-8c9b-e490dea0fc99",
   "metadata": {},
   "source": [
    "The pie chart shows that Vladimir Putin holds a commanding lead with over 80% of the likely voter support, while other candidates and responses each have significantly smaller shares."
   ]
  },
  {
   "cell_type": "code",
   "execution_count": 49,
   "id": "22c41787-fa6a-449c-aab9-f8e334f08dab",
   "metadata": {},
   "outputs": [
    {
     "data": {
      "text/plain": [
       "Index(['sex', 'age', 'federal_district', 'type_of_city', 'knows_election_date',\n",
       "       'will_vote', 'candidate', 'television_usage', 'internet_usage',\n",
       "       'education', 'income', 'employment', 'job_type', 'company_type',\n",
       "       'weight1'],\n",
       "      dtype='object')"
      ]
     },
     "execution_count": 49,
     "metadata": {},
     "output_type": "execute_result"
    }
   ],
   "source": [
    "df.columns"
   ]
  },
  {
   "cell_type": "code",
   "execution_count": 50,
   "id": "6581cf1c-7955-45c9-82b5-2b282e84e949",
   "metadata": {},
   "outputs": [
    {
     "data": {
      "text/plain": [
       "federal_district\n",
       "central            425\n",
       "volga              324\n",
       "siberian           188\n",
       "southern           182\n",
       "northwestern       151\n",
       "ural               134\n",
       "north caucasian    107\n",
       "far eastern         89\n",
       "Name: count, dtype: int64"
      ]
     },
     "execution_count": 50,
     "metadata": {},
     "output_type": "execute_result"
    }
   ],
   "source": [
    "df[\"federal_district\"].value_counts()"
   ]
  },
  {
   "cell_type": "markdown",
   "id": "0746a7ae-a481-4068-96b4-d17ea79ba26d",
   "metadata": {},
   "source": [
    "The Central federal district has the highest number of respondents with 425 entries, followed by Volga with 324, while the Far Eastern district has the fewest with 89 entries."
   ]
  },
  {
   "cell_type": "code",
   "execution_count": 52,
   "id": "3ce43590-c17e-48c7-93b5-7c28dd3f8e36",
   "metadata": {},
   "outputs": [
    {
     "data": {
      "image/png": "[encoded data removed]",
      "text/plain": [
       "<Figure size 640x480 with 1 Axes>"
      ]
     },
     "metadata": {},
     "output_type": "display_data"
    }
   ],
   "source": [
    "sns.countplot(x=df[\"federal_district\"])\n",
    "plt.xticks(rotation=90)\n",
    "# Iterate over the bars and set different colors\n",
    "for i, patch in enumerate(plt.gca().patches):\n",
    "    patch.set_facecolor(plt.cm.viridis(i / len(plt.gca().patches)))\n",
    "\n",
    "plt.show()"
   ]
  },
  {
   "cell_type": "markdown",
   "id": "9eccfec7-c65e-4705-bc52-8e0c0247fce6",
   "metadata": {},
   "source": [
    "The count plot visually confirms that the Central federal district has the highest number of respondents, with distinct color shading highlighting variations across different federal districts."
   ]
  },
  {
   "cell_type": "markdown",
   "id": "3b669ed1-0d0c-4d91-9907-b268a9913b2f",
   "metadata": {},
   "source": [
    "# Conclusion"
   ]
  },
  {
   "cell_type": "markdown",
   "id": "b78fdea7-d1df-4f4e-a856-0f31eec67bb4",
   "metadata": {},
   "source": [
    "Based on the poll results, Vladimir Putin appears to be on track for a strong victory in the 2024 Presidential Election, according to the dataset. This insight is supported by his significant lead in the candidate preference analysis, especially among the likely voters."
   ]
  }
 ],
 "metadata": {
  "kernelspec": {
   "display_name": "Python 3 (ipykernel)",
   "language": "python",
   "name": "python3"
  },
  "language_info": {
   "codemirror_mode": {
    "name": "ipython",
    "version": 3
   },
   "file_extension": ".py",
   "mimetype": "text/x-python",
   "name": "python",
   "nbconvert_exporter": "python",
   "pygments_lexer": "ipython3",
   "version": "3.12.4"
  }
 },
 "nbformat": 4,
 "nbformat_minor": 5
}
